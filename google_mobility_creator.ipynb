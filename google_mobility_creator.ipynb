{
 "cells": [
  {
   "cell_type": "code",
   "execution_count": 1,
   "metadata": {},
   "outputs": [],
   "source": [
    "import pandas as pd\n",
    "from urllib import request"
   ]
  },
  {
   "cell_type": "code",
   "execution_count": 2,
   "metadata": {},
   "outputs": [],
   "source": [
    "country_region_latam_codes = ['AR', 'BO', 'BR', 'CL', 'CO',\n",
    "                              'CR', 'DO', 'EC', 'GT', 'MX',\n",
    "                              'PA', 'PE', 'PY', 'SV', 'UY']\n",
    "\n",
    "iso2_iso3 = {\"AR\": \"ARG\",\n",
    "             \"BO\": \"BOL\",\n",
    "             \"BR\": \"BRA\",\n",
    "             \"CL\": \"CHL\",\n",
    "             \"CO\": \"COL\",\n",
    "             \"CR\": \"CRI\",\n",
    "             \"DO\": \"DOM\",\n",
    "             \"EC\": \"ECU\",\n",
    "             \"GT\": \"GTM\",\n",
    "             \"MX\": \"MEX\",\n",
    "             \"PA\": \"PAN\",\n",
    "             \"PE\": \"PER\",\n",
    "             \"PY\": \"PRY\",\n",
    "             \"SV\": \"SLV\",\n",
    "             \"UY\": \"URY\"}"
   ]
  },
  {
   "cell_type": "code",
   "execution_count": 3,
   "metadata": {},
   "outputs": [],
   "source": [
    "def retrieve_google_data():\n",
    "    google_mobility_url = 'https://www.gstatic.com/covid19/mobility/Global_Mobility_Report.csv'\n",
    "    request.urlretrieve(google_mobility_url, 'google_mobility.csv')\n",
    "    print('Done!')"
   ]
  },
  {
   "cell_type": "code",
   "execution_count": 4,
   "metadata": {},
   "outputs": [],
   "source": [
    "def create_iso3(iso2):\n",
    "    rv = iso2_iso3[iso2]\n",
    "    return rv"
   ]
  },
  {
   "cell_type": "code",
   "execution_count": 5,
   "metadata": {},
   "outputs": [
    {
     "name": "stdout",
     "output_type": "stream",
     "text": [
      "Done!\n"
     ]
    }
   ],
   "source": [
    "retrieve_google_data()"
   ]
  },
  {
   "cell_type": "code",
   "execution_count": 6,
   "metadata": {},
   "outputs": [
    {
     "name": "stderr",
     "output_type": "stream",
     "text": [
      "C:\\Users\\apdlr\\Anaconda3\\lib\\site-packages\\IPython\\core\\interactiveshell.py:3058: DtypeWarning: Columns (4) have mixed types. Specify dtype option on import or set low_memory=False.\n",
      "  interactivity=interactivity, compiler=compiler, result=result)\n"
     ]
    }
   ],
   "source": [
    "google_mobility = pd.read_csv('google_mobility.csv')"
   ]
  },
  {
   "cell_type": "code",
   "execution_count": 7,
   "metadata": {},
   "outputs": [],
   "source": [
    "google_mobility = google_mobility.loc[google_mobility['country_region_code'].isin(country_region_latam_codes)]\n",
    "google_mobility = google_mobility.reset_index(drop=True)\n",
    "google_mobility['iso'] = google_mobility['country_region_code'].apply(create_iso3)\n",
    "google_mobility = google_mobility[['country_region_code', 'iso', 'sub_region_1', 'date', 'workplaces_percent_change_from_baseline']]"
   ]
  },
  {
   "cell_type": "code",
   "execution_count": 8,
   "metadata": {},
   "outputs": [],
   "source": [
    "google_mobility.to_csv('google_mobility_latam.csv', index=False, encoding='latin1')"
   ]
  },
  {
   "cell_type": "code",
   "execution_count": null,
   "metadata": {},
   "outputs": [],
   "source": []
  }
 ],
 "metadata": {
  "kernelspec": {
   "display_name": "Python 3",
   "language": "python",
   "name": "python3"
  },
  "language_info": {
   "codemirror_mode": {
    "name": "ipython",
    "version": 3
   },
   "file_extension": ".py",
   "mimetype": "text/x-python",
   "name": "python",
   "nbconvert_exporter": "python",
   "pygments_lexer": "ipython3",
   "version": "3.7.4"
  }
 },
 "nbformat": 4,
 "nbformat_minor": 2
}
